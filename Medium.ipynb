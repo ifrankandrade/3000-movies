{
 "cells": [
  {
   "cell_type": "code",
   "execution_count": 2,
   "metadata": {},
   "outputs": [],
   "source": [
    "import pandas as pd\n",
    "import numpy as np\n",
    "import seaborn as sns\n",
    "from matplotlib import pyplot as plt\n",
    "import pickle\n",
    "import re\n",
    "import math\n",
    "\n",
    "sns.set_context('talk')"
   ]
  },
  {
   "cell_type": "markdown",
   "metadata": {},
   "source": [
    "# Data collection"
   ]
  },
  {
   "cell_type": "markdown",
   "metadata": {},
   "source": [
    "To select the best movies to learn English, I used three differente data. \n",
    "1. Oxford's 5000-word list: Available on Oxford's website (https://www.oxfordlearnersdictionaries.com/wordlists/oxford3000-5000)\n",
    "2. BNC/COCA word family list: It's created by Paul Nation and provides word lists including all the forms of a word. Available here: https://www.laurenceanthony.net/resources/wordlists/\n",
    "3. IMDb dataset: Here I used two files of IMDb data available here https://datasets.imdbws.com/\n",
    "    - title.ratings.tsv: Contains the IMDb rating and votes information for titles.\n",
    "    - title.basics.tsv.gz: Contains titles, release year, genre, etc.\n",
    "4. Movies Transcripts: I extracted transcripts of popular movies from different sources. You may google 'movies transcripts' and find the transcript of your favorite movie\n",
    "\n",
    "\n",
    "First, let's read each dataset"
   ]
  },
  {
   "cell_type": "code",
   "execution_count": 103,
   "metadata": {},
   "outputs": [],
   "source": [
    "%store -r df_oxford\n",
    "%store -r df_nation\n",
    "%store -r df_ratings\n",
    "%store -r df_imdb_movies"
   ]
  },
  {
   "cell_type": "markdown",
   "metadata": {},
   "source": [
    "# Data Cleaning"
   ]
  },
  {
   "cell_type": "markdown",
   "metadata": {},
   "source": [
    "### Oxford Dataset"
   ]
  },
  {
   "cell_type": "markdown",
   "metadata": {},
   "source": [
    "The frame df_oxford has the columns 'base_forms', 'type_words' and 'levels', while df_nation has 'base_forms', 'all_forms' and 'levels'. Note that the criteria in the 'levels' columns are different between the two dataframes.\n",
    "\n",
    "The Oxford 5000 contains duplicate words in the column 'base_forms' since one word can have different meaning e.g. the word 'age' as a noun is considered A1 level, but as a verb is considered B1 level. To deal with this we'll do the following\n",
    "1. Group by levels (A1, A2, ...C1) and drop duplicates within the same level\n",
    "2. Drop duplicates from different levels and keep the lowest level (keep='first'). For the example above only the word 'age' at A1 would remain"
   ]
  },
  {
   "cell_type": "code",
   "execution_count": 104,
   "metadata": {},
   "outputs": [],
   "source": [
    "#The oxford list contains two words with numbers 'lie1' and 'lie2'. We'll remove the numbers:\n",
    "df_oxford = df_oxford.assign(base_forms=df_oxford['base_forms'].apply(lambda x: re.sub('(\\d)', '',x).strip()))\n",
    "\n",
    "# To avoid repetition we also need to remove the marginal words ah (148) and oh (3600) in Oxford's list because they're\n",
    "#already considered in a bigger list in the df_nation frame inside the level 'marginal words'\n",
    "df_oxford.drop([148, 3600], axis=0, inplace=True)\n",
    "\n",
    "#It's necessary to lower case the base_forms column in df_oxford to later match it with df_nation\n",
    "df_oxford['base_forms'] = df_oxford['base_forms'].apply(lambda x:x.lower())\n",
    "\n",
    "#dropping the duplicates within the same level\n",
    "df_oxford_a1 = df_oxford[df_oxford['levels']=='a1'].drop_duplicates(['base_forms'])\n",
    "df_oxford_a2 = df_oxford[df_oxford['levels']=='a2'].drop_duplicates(['base_forms'])\n",
    "df_oxford_b1 = df_oxford[df_oxford['levels']=='b1'].drop_duplicates(['base_forms'])\n",
    "df_oxford_b2 = df_oxford[df_oxford['levels']=='b2'].drop_duplicates(['base_forms'])\n",
    "df_oxford_c1 = df_oxford[df_oxford['levels']=='c1'].drop_duplicates(['base_forms'])\n",
    "\n",
    "#then we concatenate the five frames to obtain the df_oxfrod without repetition within the same level\n",
    "df_oxford = pd.concat([\n",
    "    df_oxford_a1, df_oxford_a2, df_oxford_b1, df_oxford_b2, df_oxford_c1\n",
    "], axis=0)\n",
    "\n",
    "#now we drop duplicates from different levels keeping the lowest level (keep='first')\n",
    "df_oxford = df_oxford.sort_values(['base_forms', 'levels']).drop_duplicates('base_forms', keep='first')"
   ]
  },
  {
   "cell_type": "markdown",
   "metadata": {},
   "source": [
    "The following table shows the number base words for each level table after cleaning the data"
   ]
  },
  {
   "cell_type": "code",
   "execution_count": 110,
   "metadata": {},
   "outputs": [
    {
     "data": {
      "text/html": [
       "<div>\n",
       "<style scoped>\n",
       "    .dataframe tbody tr th:only-of-type {\n",
       "        vertical-align: middle;\n",
       "    }\n",
       "\n",
       "    .dataframe tbody tr th {\n",
       "        vertical-align: top;\n",
       "    }\n",
       "\n",
       "    .dataframe thead th {\n",
       "        text-align: right;\n",
       "    }\n",
       "</style>\n",
       "<table border=\"1\" class=\"dataframe\">\n",
       "  <thead>\n",
       "    <tr style=\"text-align: right;\">\n",
       "      <th></th>\n",
       "      <th>base_forms</th>\n",
       "      <th>type_words</th>\n",
       "    </tr>\n",
       "    <tr>\n",
       "      <th>levels</th>\n",
       "      <th></th>\n",
       "      <th></th>\n",
       "    </tr>\n",
       "  </thead>\n",
       "  <tbody>\n",
       "    <tr>\n",
       "      <th>a1</th>\n",
       "      <td>897</td>\n",
       "      <td>897</td>\n",
       "    </tr>\n",
       "    <tr>\n",
       "      <th>a2</th>\n",
       "      <td>791</td>\n",
       "      <td>791</td>\n",
       "    </tr>\n",
       "    <tr>\n",
       "      <th>b1</th>\n",
       "      <td>689</td>\n",
       "      <td>689</td>\n",
       "    </tr>\n",
       "    <tr>\n",
       "      <th>b2</th>\n",
       "      <td>1297</td>\n",
       "      <td>1297</td>\n",
       "    </tr>\n",
       "    <tr>\n",
       "      <th>c1</th>\n",
       "      <td>1278</td>\n",
       "      <td>1278</td>\n",
       "    </tr>\n",
       "  </tbody>\n",
       "</table>\n",
       "</div>"
      ],
      "text/plain": [
       "        base_forms  type_words\n",
       "levels                        \n",
       "a1             897         897\n",
       "a2             791         791\n",
       "b1             689         689\n",
       "b2            1297        1297\n",
       "c1            1278        1278"
      ]
     },
     "execution_count": 110,
     "metadata": {},
     "output_type": "execute_result"
    }
   ],
   "source": [
    "df_oxford.groupby('levels').count()"
   ]
  },
  {
   "cell_type": "code",
   "execution_count": 81,
   "metadata": {},
   "outputs": [],
   "source": [
    "#before merging the df_oxford and df_nation frames we need to change the 'levels' column name \n",
    "#to differentiate them\n",
    "df_oxford.rename(columns={'levels':'oxford_levels'}, inplace=True)\n",
    "df_nation.rename(columns={'levels':'nation_levels'}, inplace=True)\n",
    "\n",
    "#let's merge the two dataframes and name it 'df_oxford_all_forms'. \n",
    "df_oxford_all_forms =  pd.merge(df_oxford, df_nation, on='base_forms')\n",
    "\n",
    "#Note1: some of the words that dont merge are only compound words \n",
    "#Note2: other words that dont merge are 'all_forms' words inside the 'base_form' column in the Oxford's list\n",
    "#For example the word 'acceptable' is found in 'base_form' when actually it comes from the base form 'accept'\n",
    "#Fortunately all this words are already considered inside 'all_forms' in  df_nation; therefore, it's already in df_oxford_all_forms. \n",
    "#You can verifi this by doing  -> pd.merge(df_oxford, df_nation, left_on='base_forms', right_on='all_forms')\n",
    "\n",
    "#we'll only need this three columns for the analysis\n",
    "df_oxford_all_forms = df_oxford_all_forms[['base_forms', 'all_forms', 'oxford_levels']]\n",
    "\n",
    "#Let's include marginal words like 'oh', 'ah' and proper names like 'John' considered in df_nation\n",
    "df_proper_names = df_nation[df_nation['nation_levels']==26]\n",
    "df_proper_names = df_proper_names.assign(oxford_levels='proper_name')[['base_forms', 'all_forms', 'oxford_levels']]\n",
    "#Drop this proper nouns to avoid repetition: #app 2026, #sue 20685. They're already counted as noun/verb in Oxford list\n",
    "df_proper_names.drop([2026, 20685], axis=0, inplace=True)\n",
    "\n",
    "df_marginal_words = df_nation[df_nation['nation_levels']==27]\n",
    "df_marginal_words = df_marginal_words.assign(oxford_levels='marginal_words')[['base_forms', 'all_forms', 'oxford_levels']]\n",
    "\n",
    "#append proper names and marginal words to df_oxford_all_forms\n",
    "df_oxford_all_forms = df_oxford_all_forms.append(pd.concat([df_proper_names, df_marginal_words], axis=0), ignore_index=True)"
   ]
  },
  {
   "cell_type": "markdown",
   "metadata": {},
   "source": [
    "The following table shows the number of unique base words on each level that will be used for the analysis along with its 'all_form' variantions"
   ]
  },
  {
   "cell_type": "code",
   "execution_count": 101,
   "metadata": {},
   "outputs": [
    {
     "data": {
      "text/html": [
       "<div>\n",
       "<style scoped>\n",
       "    .dataframe tbody tr th:only-of-type {\n",
       "        vertical-align: middle;\n",
       "    }\n",
       "\n",
       "    .dataframe tbody tr th {\n",
       "        vertical-align: top;\n",
       "    }\n",
       "\n",
       "    .dataframe thead th {\n",
       "        text-align: right;\n",
       "    }\n",
       "</style>\n",
       "<table border=\"1\" class=\"dataframe\">\n",
       "  <thead>\n",
       "    <tr style=\"text-align: right;\">\n",
       "      <th></th>\n",
       "      <th>base_forms</th>\n",
       "      <th>all_forms</th>\n",
       "    </tr>\n",
       "    <tr>\n",
       "      <th>oxford_levels</th>\n",
       "      <th></th>\n",
       "      <th></th>\n",
       "    </tr>\n",
       "  </thead>\n",
       "  <tbody>\n",
       "    <tr>\n",
       "      <th>a1</th>\n",
       "      <td>783</td>\n",
       "      <td>783</td>\n",
       "    </tr>\n",
       "    <tr>\n",
       "      <th>a2</th>\n",
       "      <td>618</td>\n",
       "      <td>618</td>\n",
       "    </tr>\n",
       "    <tr>\n",
       "      <th>b1</th>\n",
       "      <td>462</td>\n",
       "      <td>462</td>\n",
       "    </tr>\n",
       "    <tr>\n",
       "      <th>b2</th>\n",
       "      <td>911</td>\n",
       "      <td>911</td>\n",
       "    </tr>\n",
       "    <tr>\n",
       "      <th>c1</th>\n",
       "      <td>855</td>\n",
       "      <td>855</td>\n",
       "    </tr>\n",
       "    <tr>\n",
       "      <th>marginal_words</th>\n",
       "      <td>38</td>\n",
       "      <td>38</td>\n",
       "    </tr>\n",
       "    <tr>\n",
       "      <th>proper_name</th>\n",
       "      <td>21660</td>\n",
       "      <td>21660</td>\n",
       "    </tr>\n",
       "  </tbody>\n",
       "</table>\n",
       "</div>"
      ],
      "text/plain": [
       "                base_forms  all_forms\n",
       "oxford_levels                        \n",
       "a1                     783        783\n",
       "a2                     618        618\n",
       "b1                     462        462\n",
       "b2                     911        911\n",
       "c1                     855        855\n",
       "marginal_words          38         38\n",
       "proper_name          21660      21660"
      ]
     },
     "execution_count": 101,
     "metadata": {},
     "output_type": "execute_result"
    }
   ],
   "source": [
    "df_oxford_all_forms.drop_duplicates(['base_forms']).groupby('oxford_levels').count()"
   ]
  },
  {
   "cell_type": "markdown",
   "metadata": {},
   "source": [
    "### Movies' transcripts Dataset"
   ]
  },
  {
   "cell_type": "code",
   "execution_count": 111,
   "metadata": {},
   "outputs": [],
   "source": [
    "#merge the df_imdb_movies and df_ratings previously read\n",
    "df_movies_rating = pd.merge(df_imdb_movies, df_ratings, on='tconst')\n",
    "#lower case the 'primaryTitle' column so later we can merge it with the movies' transcripts\n",
    "df_movies_rating['primaryTitle'] =  df_movies_rating['primaryTitle'].apply(lambda x:x.lower())\n",
    "\n",
    "#pickle movies' transcripts. in this case the dataframe is already cleaned except for the transcript\n",
    "#since cleaning movies' transcripts are time comsuming, i preferred to clean only the transcripts of the most popular movies (selected below)\n",
    "df_movies = pickle.load(open('df_movies_clean_except_transcripts','rb'))\n",
    "#lower case the 'titles' column to merge it with the df_movies_ratings\n",
    "df_movies['titles'] =  df_movies['titles'].apply(lambda x:x.lower())\n",
    "\n",
    "#merge df_movies and df_movies_rating\n",
    "df_movies_analysis = pd.merge(df_movies, df_movies_rating, left_on=['titles', 'years'], \n",
    "         right_on=['primaryTitle', 'startYear'])\n",
    "#sort the values descending by the numVotes (order by popularity)\n",
    "df_movies_analysis = df_movies_analysis.sort_values(['numVotes', 'averageRating'], ascending=False)\n",
    "#pick only the top 3000 most popular movies\n",
    "df_movies_analysis = df_movies_analysis[:3000]\n",
    "#reset index\n",
    "df_movies_analysis = df_movies_analysis.reset_index().drop(['index'], axis=1)"
   ]
  },
  {
   "cell_type": "code",
   "execution_count": 113,
   "metadata": {},
   "outputs": [],
   "source": [
    "#clean only the transcripts of the 3000 movies selected\n",
    "from cleaning import clean_transcripts\n",
    "\n",
    "final_round = lambda x: clean_transcripts(x)\n",
    "df_movies_analysis['transcripts'] = df_movies_analysis['transcripts'].apply(final_round)"
   ]
  },
  {
   "cell_type": "markdown",
   "metadata": {},
   "source": [
    "# Exploratory Data Analysis"
   ]
  },
  {
   "cell_type": "markdown",
   "metadata": {},
   "source": [
    "### Document-Term Matrix"
   ]
  },
  {
   "cell_type": "markdown",
   "metadata": {},
   "source": [
    "To obtain the vocabulary used in each movie we need to tokenize the transcripts. That is, break down text into words. We can do this using scikit-learn's CountVectorizer, where every row will represent a different document and every column will represent a different word."
   ]
  },
  {
   "cell_type": "code",
   "execution_count": 114,
   "metadata": {},
   "outputs": [],
   "source": [
    "from sklearn.feature_extraction.text import CountVectorizer\n",
    "from sklearn.feature_extraction import text \n",
    "import scipy.sparse\n",
    "\n",
    "#create instance on CountVectorizer. Then fit and transform the 'transcripts' columns\n",
    "cv = CountVectorizer()\n",
    "cv_matrix = cv.fit_transform(df_movies_analysis['transcripts'])\n",
    "df_dtm = pd.DataFrame.sparse.from_spmatrix(cv_matrix, index=df_movies_analysis.index, columns=cv.get_feature_names())"
   ]
  },
  {
   "cell_type": "code",
   "execution_count": 115,
   "metadata": {},
   "outputs": [],
   "source": [
    "#Transpose the df_dtm so we get movies titles in the columns and tokens in the rows\n",
    "df_dtm = df_dtm.T"
   ]
  },
  {
   "cell_type": "code",
   "execution_count": 117,
   "metadata": {},
   "outputs": [],
   "source": [
    "def get_statistics(indices):\n",
    "    \"\"\"Give the index of the movie and obtain the vocabulary coverage per level of each transcript \"\"\"\n",
    "    frames = []\n",
    "    for index in indices:\n",
    "        #obtain all the words said the in the movie 'n'\n",
    "        df_dtm_column_n = df_dtm[[index]].loc[df_dtm[index]!=0]\n",
    "        df_dtm_column_n = df_dtm_column_n.reset_index()\n",
    "        df_dtm_column_n.rename(columns={\"index\": \"all_forms\", index: \"count\"}, inplace=True)\n",
    "\n",
    "        #merge the df_dtm_column_n with the df_oxford_all_forms to obatin all vocabulary level of all the words mentioned in the movie\n",
    "        df_count_words_level = pd.merge(df_dtm_column_n, df_oxford_all_forms[['all_forms', 'oxford_levels']],\n",
    "                                                how='left', on='all_forms')\n",
    "        #the words that dont have any Oxford level would go to the classification 'None on the list'\n",
    "        df_count_words_level = df_count_words_level.fillna('None on the list')\n",
    "        #turn the count column to integer type\n",
    "        int_value = [int(i.item()) for i in df_count_words_level['count']]\n",
    "        df_count_words_level['count'] = int_value\n",
    "\n",
    "        #group the words in the transcript by level and then sum to the vocabulary coverage per level\n",
    "        df_count_words_level = df_count_words_level.groupby(['oxford_levels']).sum()\n",
    "        total_tokens = df_count_words_level['count'].sum()\n",
    "        df_count_words_level['%'] = round(df_count_words_level['count'] / total_tokens * 100, 1)\n",
    "        frames.append(df_count_words_level)\n",
    "    return frames"
   ]
  },
  {
   "cell_type": "code",
   "execution_count": 118,
   "metadata": {},
   "outputs": [],
   "source": [
    "#pick the indices of the 3000 movies selected. then call get_statistics()\n",
    "indices = df_movies_analysis.index.values\n",
    "df = get_statistics(indices)\n",
    "dict_top_movies = dict(zip(indices, df))"
   ]
  },
  {
   "cell_type": "code",
   "execution_count": 125,
   "metadata": {},
   "outputs": [],
   "source": [
    "#creating frames with % coverage from a1 to c1 in the columns for each movie\n",
    "frames=[]\n",
    "for index in dict_top_movies:\n",
    "    total_tokens = dict_top_movies[index]['count'].sum()\n",
    "    frame = dict_top_movies[index].drop(['count'], axis=1).rename(columns={'%':index}).T\n",
    "    frame['tokens'] = total_tokens\n",
    "    frames.append(frame)"
   ]
  },
  {
   "cell_type": "code",
   "execution_count": 130,
   "metadata": {
    "scrolled": false
   },
   "outputs": [],
   "source": [
    "#concatenate the frames appended and create cumulative coverage columns (CA, CB, CC)\n",
    "df_statistics = pd.concat(frames, axis=0)\n",
    "df_statistics['CA'] = df_statistics['a1'] + df_statistics['a2'] + df_statistics['marginal_words'] + df_statistics['proper_name'] \n",
    "df_statistics['CB'] = df_statistics['CA'] + df_statistics['b1'] + df_statistics['b2'] \n",
    "df_statistics['CC'] = df_statistics['CB'] + df_statistics['c1'] \n",
    "df_statistics['%'] = df_statistics['CC'] + df_statistics['None on the list']"
   ]
  },
  {
   "cell_type": "code",
   "execution_count": 136,
   "metadata": {},
   "outputs": [],
   "source": [
    "df_statistics = df_statistics.fillna(0)\n",
    "#Filter out transcripts with tokens less than 4000 words and with CA coverage less than 70% (total around 10% transcripts)\n",
    "df_statistics = df_statistics[df_statistics['tokens']>4000]\n",
    "df_statistics = df_statistics[df_statistics['CA']>=70]"
   ]
  },
  {
   "cell_type": "markdown",
   "metadata": {},
   "source": [
    "The dataframe will look like the next table. This will help us analyze the data with graphs"
   ]
  },
  {
   "cell_type": "code",
   "execution_count": 137,
   "metadata": {},
   "outputs": [
    {
     "data": {
      "text/html": [
       "<div>\n",
       "<style scoped>\n",
       "    .dataframe tbody tr th:only-of-type {\n",
       "        vertical-align: middle;\n",
       "    }\n",
       "\n",
       "    .dataframe tbody tr th {\n",
       "        vertical-align: top;\n",
       "    }\n",
       "\n",
       "    .dataframe thead th {\n",
       "        text-align: right;\n",
       "    }\n",
       "</style>\n",
       "<table border=\"1\" class=\"dataframe\">\n",
       "  <thead>\n",
       "    <tr style=\"text-align: right;\">\n",
       "      <th></th>\n",
       "      <th>None on the list</th>\n",
       "      <th>a1</th>\n",
       "      <th>a2</th>\n",
       "      <th>b1</th>\n",
       "      <th>b2</th>\n",
       "      <th>c1</th>\n",
       "      <th>marginal_words</th>\n",
       "      <th>proper_name</th>\n",
       "      <th>tokens</th>\n",
       "      <th>CA</th>\n",
       "      <th>CB</th>\n",
       "      <th>CC</th>\n",
       "      <th>%</th>\n",
       "    </tr>\n",
       "  </thead>\n",
       "  <tbody>\n",
       "    <tr>\n",
       "      <th>0</th>\n",
       "      <td>5.5</td>\n",
       "      <td>78.7</td>\n",
       "      <td>6.6</td>\n",
       "      <td>2.8</td>\n",
       "      <td>2.3</td>\n",
       "      <td>0.8</td>\n",
       "      <td>1.0</td>\n",
       "      <td>2.3</td>\n",
       "      <td>11292.0</td>\n",
       "      <td>88.6</td>\n",
       "      <td>93.7</td>\n",
       "      <td>94.5</td>\n",
       "      <td>100.0</td>\n",
       "    </tr>\n",
       "    <tr>\n",
       "      <th>1</th>\n",
       "      <td>3.9</td>\n",
       "      <td>79.3</td>\n",
       "      <td>7.0</td>\n",
       "      <td>2.3</td>\n",
       "      <td>2.7</td>\n",
       "      <td>1.4</td>\n",
       "      <td>0.6</td>\n",
       "      <td>2.9</td>\n",
       "      <td>12511.0</td>\n",
       "      <td>89.8</td>\n",
       "      <td>94.8</td>\n",
       "      <td>96.2</td>\n",
       "      <td>100.1</td>\n",
       "    </tr>\n",
       "    <tr>\n",
       "      <th>2</th>\n",
       "      <td>16.2</td>\n",
       "      <td>70.9</td>\n",
       "      <td>5.2</td>\n",
       "      <td>2.3</td>\n",
       "      <td>2.2</td>\n",
       "      <td>1.2</td>\n",
       "      <td>0.3</td>\n",
       "      <td>1.7</td>\n",
       "      <td>6577.0</td>\n",
       "      <td>78.1</td>\n",
       "      <td>82.6</td>\n",
       "      <td>83.8</td>\n",
       "      <td>100.0</td>\n",
       "    </tr>\n",
       "    <tr>\n",
       "      <th>3</th>\n",
       "      <td>4.2</td>\n",
       "      <td>79.6</td>\n",
       "      <td>7.1</td>\n",
       "      <td>2.2</td>\n",
       "      <td>2.4</td>\n",
       "      <td>0.9</td>\n",
       "      <td>1.1</td>\n",
       "      <td>2.5</td>\n",
       "      <td>13056.0</td>\n",
       "      <td>90.3</td>\n",
       "      <td>94.9</td>\n",
       "      <td>95.8</td>\n",
       "      <td>100.0</td>\n",
       "    </tr>\n",
       "    <tr>\n",
       "      <th>4</th>\n",
       "      <td>7.1</td>\n",
       "      <td>78.3</td>\n",
       "      <td>5.1</td>\n",
       "      <td>2.0</td>\n",
       "      <td>1.6</td>\n",
       "      <td>0.7</td>\n",
       "      <td>2.7</td>\n",
       "      <td>2.5</td>\n",
       "      <td>15704.0</td>\n",
       "      <td>88.6</td>\n",
       "      <td>92.2</td>\n",
       "      <td>92.9</td>\n",
       "      <td>100.0</td>\n",
       "    </tr>\n",
       "    <tr>\n",
       "      <th>...</th>\n",
       "      <td>...</td>\n",
       "      <td>...</td>\n",
       "      <td>...</td>\n",
       "      <td>...</td>\n",
       "      <td>...</td>\n",
       "      <td>...</td>\n",
       "      <td>...</td>\n",
       "      <td>...</td>\n",
       "      <td>...</td>\n",
       "      <td>...</td>\n",
       "      <td>...</td>\n",
       "      <td>...</td>\n",
       "      <td>...</td>\n",
       "    </tr>\n",
       "    <tr>\n",
       "      <th>2995</th>\n",
       "      <td>3.2</td>\n",
       "      <td>84.4</td>\n",
       "      <td>6.2</td>\n",
       "      <td>1.8</td>\n",
       "      <td>2.4</td>\n",
       "      <td>0.7</td>\n",
       "      <td>0.8</td>\n",
       "      <td>0.4</td>\n",
       "      <td>7027.0</td>\n",
       "      <td>91.8</td>\n",
       "      <td>96.0</td>\n",
       "      <td>96.7</td>\n",
       "      <td>99.9</td>\n",
       "    </tr>\n",
       "    <tr>\n",
       "      <th>2996</th>\n",
       "      <td>7.0</td>\n",
       "      <td>75.8</td>\n",
       "      <td>6.6</td>\n",
       "      <td>2.8</td>\n",
       "      <td>2.4</td>\n",
       "      <td>1.5</td>\n",
       "      <td>1.4</td>\n",
       "      <td>2.5</td>\n",
       "      <td>10560.0</td>\n",
       "      <td>86.3</td>\n",
       "      <td>91.5</td>\n",
       "      <td>93.0</td>\n",
       "      <td>100.0</td>\n",
       "    </tr>\n",
       "    <tr>\n",
       "      <th>2997</th>\n",
       "      <td>7.7</td>\n",
       "      <td>73.2</td>\n",
       "      <td>6.8</td>\n",
       "      <td>3.4</td>\n",
       "      <td>3.7</td>\n",
       "      <td>0.9</td>\n",
       "      <td>1.4</td>\n",
       "      <td>2.9</td>\n",
       "      <td>4354.0</td>\n",
       "      <td>84.3</td>\n",
       "      <td>91.4</td>\n",
       "      <td>92.3</td>\n",
       "      <td>100.0</td>\n",
       "    </tr>\n",
       "    <tr>\n",
       "      <th>2998</th>\n",
       "      <td>4.9</td>\n",
       "      <td>79.9</td>\n",
       "      <td>5.3</td>\n",
       "      <td>2.3</td>\n",
       "      <td>1.6</td>\n",
       "      <td>0.9</td>\n",
       "      <td>3.4</td>\n",
       "      <td>1.7</td>\n",
       "      <td>7243.0</td>\n",
       "      <td>90.3</td>\n",
       "      <td>94.2</td>\n",
       "      <td>95.1</td>\n",
       "      <td>100.0</td>\n",
       "    </tr>\n",
       "    <tr>\n",
       "      <th>2999</th>\n",
       "      <td>3.8</td>\n",
       "      <td>76.2</td>\n",
       "      <td>6.7</td>\n",
       "      <td>3.8</td>\n",
       "      <td>3.1</td>\n",
       "      <td>1.7</td>\n",
       "      <td>1.0</td>\n",
       "      <td>3.6</td>\n",
       "      <td>6686.0</td>\n",
       "      <td>87.5</td>\n",
       "      <td>94.4</td>\n",
       "      <td>96.1</td>\n",
       "      <td>99.9</td>\n",
       "    </tr>\n",
       "  </tbody>\n",
       "</table>\n",
       "<p>2635 rows × 13 columns</p>\n",
       "</div>"
      ],
      "text/plain": [
       "      None on the list    a1   a2   b1   b2   c1  marginal_words  proper_name  \\\n",
       "0                  5.5  78.7  6.6  2.8  2.3  0.8             1.0          2.3   \n",
       "1                  3.9  79.3  7.0  2.3  2.7  1.4             0.6          2.9   \n",
       "2                 16.2  70.9  5.2  2.3  2.2  1.2             0.3          1.7   \n",
       "3                  4.2  79.6  7.1  2.2  2.4  0.9             1.1          2.5   \n",
       "4                  7.1  78.3  5.1  2.0  1.6  0.7             2.7          2.5   \n",
       "...                ...   ...  ...  ...  ...  ...             ...          ...   \n",
       "2995               3.2  84.4  6.2  1.8  2.4  0.7             0.8          0.4   \n",
       "2996               7.0  75.8  6.6  2.8  2.4  1.5             1.4          2.5   \n",
       "2997               7.7  73.2  6.8  3.4  3.7  0.9             1.4          2.9   \n",
       "2998               4.9  79.9  5.3  2.3  1.6  0.9             3.4          1.7   \n",
       "2999               3.8  76.2  6.7  3.8  3.1  1.7             1.0          3.6   \n",
       "\n",
       "       tokens    CA    CB    CC      %  \n",
       "0     11292.0  88.6  93.7  94.5  100.0  \n",
       "1     12511.0  89.8  94.8  96.2  100.1  \n",
       "2      6577.0  78.1  82.6  83.8  100.0  \n",
       "3     13056.0  90.3  94.9  95.8  100.0  \n",
       "4     15704.0  88.6  92.2  92.9  100.0  \n",
       "...       ...   ...   ...   ...    ...  \n",
       "2995   7027.0  91.8  96.0  96.7   99.9  \n",
       "2996  10560.0  86.3  91.5  93.0  100.0  \n",
       "2997   4354.0  84.3  91.4  92.3  100.0  \n",
       "2998   7243.0  90.3  94.2  95.1  100.0  \n",
       "2999   6686.0  87.5  94.4  96.1   99.9  \n",
       "\n",
       "[2635 rows x 13 columns]"
      ]
     },
     "execution_count": 137,
     "metadata": {},
     "output_type": "execute_result"
    }
   ],
   "source": [
    "df_statistics"
   ]
  },
  {
   "cell_type": "markdown",
   "metadata": {},
   "source": [
    "## Heatmap"
   ]
  },
  {
   "cell_type": "markdown",
   "metadata": {},
   "source": [
    "Let's compare the vocabulary coverage for the movies Batman, Titanic, Harry Potter, Toy Story and Stuart Little."
   ]
  },
  {
   "cell_type": "code",
   "execution_count": 138,
   "metadata": {
    "scrolled": true
   },
   "outputs": [
    {
     "data": {
      "text/html": [
       "<div>\n",
       "<style scoped>\n",
       "    .dataframe tbody tr th:only-of-type {\n",
       "        vertical-align: middle;\n",
       "    }\n",
       "\n",
       "    .dataframe tbody tr th {\n",
       "        vertical-align: top;\n",
       "    }\n",
       "\n",
       "    .dataframe thead th {\n",
       "        text-align: right;\n",
       "    }\n",
       "</style>\n",
       "<table border=\"1\" class=\"dataframe\">\n",
       "  <thead>\n",
       "    <tr style=\"text-align: right;\">\n",
       "      <th></th>\n",
       "      <th>None on the list</th>\n",
       "      <th>a1</th>\n",
       "      <th>a2</th>\n",
       "      <th>b1</th>\n",
       "      <th>b2</th>\n",
       "      <th>c1</th>\n",
       "      <th>marginal_words</th>\n",
       "      <th>proper_name</th>\n",
       "      <th>tokens</th>\n",
       "      <th>CA</th>\n",
       "      <th>CB</th>\n",
       "      <th>CC</th>\n",
       "      <th>%</th>\n",
       "    </tr>\n",
       "  </thead>\n",
       "  <tbody>\n",
       "    <tr>\n",
       "      <th>Toy story</th>\n",
       "      <td>7.5</td>\n",
       "      <td>75.3</td>\n",
       "      <td>6.9</td>\n",
       "      <td>1.7</td>\n",
       "      <td>2.3</td>\n",
       "      <td>1.1</td>\n",
       "      <td>3.1</td>\n",
       "      <td>2.1</td>\n",
       "      <td>7407.0</td>\n",
       "      <td>87.4</td>\n",
       "      <td>91.4</td>\n",
       "      <td>92.5</td>\n",
       "      <td>100.0</td>\n",
       "    </tr>\n",
       "    <tr>\n",
       "      <th>Batman</th>\n",
       "      <td>4.9</td>\n",
       "      <td>77.1</td>\n",
       "      <td>7.5</td>\n",
       "      <td>2.4</td>\n",
       "      <td>3.4</td>\n",
       "      <td>1.7</td>\n",
       "      <td>0.1</td>\n",
       "      <td>3.0</td>\n",
       "      <td>8896.0</td>\n",
       "      <td>87.7</td>\n",
       "      <td>93.5</td>\n",
       "      <td>95.2</td>\n",
       "      <td>100.1</td>\n",
       "    </tr>\n",
       "    <tr>\n",
       "      <th>Harry potter</th>\n",
       "      <td>5.0</td>\n",
       "      <td>77.6</td>\n",
       "      <td>6.1</td>\n",
       "      <td>2.7</td>\n",
       "      <td>2.6</td>\n",
       "      <td>1.2</td>\n",
       "      <td>0.7</td>\n",
       "      <td>4.0</td>\n",
       "      <td>8397.0</td>\n",
       "      <td>88.4</td>\n",
       "      <td>93.7</td>\n",
       "      <td>94.9</td>\n",
       "      <td>99.9</td>\n",
       "    </tr>\n",
       "    <tr>\n",
       "      <th>Titanic</th>\n",
       "      <td>5.0</td>\n",
       "      <td>79.8</td>\n",
       "      <td>7.1</td>\n",
       "      <td>2.1</td>\n",
       "      <td>2.3</td>\n",
       "      <td>0.8</td>\n",
       "      <td>0.6</td>\n",
       "      <td>2.3</td>\n",
       "      <td>11614.0</td>\n",
       "      <td>89.8</td>\n",
       "      <td>94.2</td>\n",
       "      <td>95.0</td>\n",
       "      <td>100.0</td>\n",
       "    </tr>\n",
       "    <tr>\n",
       "      <th>Stuart Little</th>\n",
       "      <td>3.2</td>\n",
       "      <td>79.2</td>\n",
       "      <td>7.3</td>\n",
       "      <td>3.9</td>\n",
       "      <td>3.5</td>\n",
       "      <td>0.8</td>\n",
       "      <td>0.1</td>\n",
       "      <td>2.1</td>\n",
       "      <td>13181.0</td>\n",
       "      <td>88.7</td>\n",
       "      <td>96.1</td>\n",
       "      <td>96.9</td>\n",
       "      <td>100.1</td>\n",
       "    </tr>\n",
       "  </tbody>\n",
       "</table>\n",
       "</div>"
      ],
      "text/plain": [
       "               None on the list    a1   a2   b1   b2   c1  marginal_words  \\\n",
       "Toy story                   7.5  75.3  6.9  1.7  2.3  1.1             3.1   \n",
       "Batman                      4.9  77.1  7.5  2.4  3.4  1.7             0.1   \n",
       "Harry potter                5.0  77.6  6.1  2.7  2.6  1.2             0.7   \n",
       "Titanic                     5.0  79.8  7.1  2.1  2.3  0.8             0.6   \n",
       "Stuart Little               3.2  79.2  7.3  3.9  3.5  0.8             0.1   \n",
       "\n",
       "               proper_name   tokens    CA    CB    CC      %  \n",
       "Toy story              2.1   7407.0  87.4  91.4  92.5  100.0  \n",
       "Batman                 3.0   8896.0  87.7  93.5  95.2  100.1  \n",
       "Harry potter           4.0   8397.0  88.4  93.7  94.9   99.9  \n",
       "Titanic                2.3  11614.0  89.8  94.2  95.0  100.0  \n",
       "Stuart Little          2.1  13181.0  88.7  96.1  96.9  100.1  "
      ]
     },
     "execution_count": 138,
     "metadata": {},
     "output_type": "execute_result"
    }
   ],
   "source": [
    "df_heat = pd.concat([\n",
    "    df_statistics[df_statistics.index.isin([13])],\n",
    "    df_statistics[df_statistics.index.isin([28])],\n",
    "    df_statistics[df_statistics.index.isin([137])],\n",
    "    df_statistics[df_statistics.index.isin([45])],\n",
    "    df_statistics[df_statistics.index.isin([1102])],\n",
    "], axis=0)\n",
    "df_heat = df_heat.rename(index={13:'Batman', 28:'Titanic',\n",
    "                               137:'Harry potter', 45:'Toy story', 1102:'Stuart Little'})\n",
    "df_heat = df_heat.sort_values(by=['CB'])\n",
    "df_heat"
   ]
  },
  {
   "cell_type": "code",
   "execution_count": 141,
   "metadata": {
    "scrolled": false
   },
   "outputs": [
    {
     "data": {
      "image/png": "[encoded data removed]",
      "text/plain": [
       "<Figure size 540x360 with 2 Axes>"
      ]
     },
     "metadata": {
      "needs_background": "light"
     },
     "output_type": "display_data"
    }
   ],
   "source": [
    "fig, ax = plt.subplots(1,1, figsize=(7.5,5))\n",
    "ax = sns.heatmap(df_heat[['CA', 'CB', 'CC']], annot=True, linewidth=1, fmt='.3g', ax=ax, \n",
    "            cmap='YlGnBu', xticklabels= ['A level', 'A+B level', 'A+B+C1 level']\n",
    "           )\n",
    "ax.set_xlabel(\"Vocabulary coverage\",fontsize=18)\n",
    "fig.tight_layout()\n",
    "# ax.figure.savefig('heatmap.png')"
   ]
  },
  {
   "cell_type": "markdown",
   "metadata": {},
   "source": [
    "## Histogram A-level coverage"
   ]
  },
  {
   "cell_type": "code",
   "execution_count": 145,
   "metadata": {},
   "outputs": [
    {
     "name": "stdout",
     "output_type": "stream",
     "text": [
      "Mean:89.72208728652753\n"
     ]
    },
    {
     "name": "stderr",
     "output_type": "stream",
     "text": [
      "/Applications/anaconda3/envs/scrapping/lib/python3.7/site-packages/seaborn/distributions.py:2551: FutureWarning: `distplot` is a deprecated function and will be removed in a future version. Please adapt your code to use either `displot` (a figure-level function with similar flexibility) or `histplot` (an axes-level function for histograms).\n",
      "  warnings.warn(msg, FutureWarning)\n"
     ]
    },
    {
     "data": {
      "image/png": "[encoded data removed]",
      "text/plain": [
       "<Figure size 576x360 with 1 Axes>"
      ]
     },
     "metadata": {},
     "output_type": "display_data"
    }
   ],
   "source": [
    "hmin, hmax = min(df_statistics['CA']), max(df_statistics['CA'])\n",
    "minbin, maxbin = math.floor(hmin), math.ceil(hmax)\n",
    "gap = maxbin - minbin\n",
    "#choose number of beens\n",
    "bins = 10\n",
    "width = math.ceil(gap/bins)\n",
    "print('Mean:'+str(df_statistics['CA'].mean()))\n",
    "\n",
    "sns.set_style(\"darkgrid\")\n",
    "bins = np.arange(minbin,maxbin+width, width)\n",
    "fig, ax = plt.subplots(1,1, figsize=(8,5))\n",
    "ax = sns.distplot(df_statistics['CA'], bins=bins, kde=False, color='darkred')\n",
    "ax.set_xlabel(\"A-level vocabulary coverage\",fontsize=14)\n",
    "ax.set_ylabel(\"Number of movies\",fontsize=14)\n",
    "ax.tick_params(labelsize=13)\n",
    "#Here you can set it to 'bin' so the ticks will match the end and beggining of bars OR you can\n",
    "#set 'bin - HALF of the bar width' so the ticks will match the center of bars\n",
    "plt.xticks(bins)\n",
    "fig.tight_layout()\n",
    "# ax.figure.savefig('A-coverage.png')"
   ]
  },
  {
   "cell_type": "markdown",
   "metadata": {},
   "source": [
    "## Histogram B-level coverage"
   ]
  },
  {
   "cell_type": "code",
   "execution_count": 147,
   "metadata": {
    "scrolled": true
   },
   "outputs": [
    {
     "name": "stdout",
     "output_type": "stream",
     "text": [
      "Mean:94.11244781783682\n"
     ]
    },
    {
     "data": {
      "image/png": "[encoded data removed]",
      "text/plain": [
       "<Figure size 576x360 with 1 Axes>"
      ]
     },
     "metadata": {},
     "output_type": "display_data"
    }
   ],
   "source": [
    "hmin, hmax = min(df_statistics['CB']), max(df_statistics['CB'])\n",
    "minbin, maxbin = math.floor(hmin), math.ceil(hmax)\n",
    "gap = maxbin - minbin\n",
    "#choose number of beens\n",
    "bins = 11\n",
    "width = math.ceil(gap/bins)\n",
    "print('Mean:'+str(df_statistics['CB'].mean()))\n",
    "\n",
    "sns.set_style(\"darkgrid\")\n",
    "bins = np.arange(minbin, maxbin+width, width)\n",
    "fig, ax = plt.subplots(1,1, figsize=(8,5))\n",
    "ax = sns.distplot(df_statistics['CB'], bins=bins, kde=False, color='darkred')\n",
    "ax.set_xlabel(\"A+B-level vocabulary coverage\",fontsize=14)\n",
    "ax.set_ylabel(\"Number of movies\",fontsize=14)\n",
    "ax.tick_params(labelsize=13)\n",
    "plt.xticks(bins)\n",
    "fig.tight_layout()\n",
    "# ax.figure.savefig('A+B-coverage.png')"
   ]
  },
  {
   "cell_type": "markdown",
   "metadata": {},
   "source": [
    "## Selecting the top movies"
   ]
  },
  {
   "cell_type": "markdown",
   "metadata": {},
   "source": [
    "According to the histograms about 200 movies covered the highest range of A-level vocabulary. Then we'll find out wich are the top 50 movies in that range. I had to make a trade-off between vocabulary coverage and movies' popularity (following the IMDb ratings) to come up with the top 50 movies "
   ]
  },
  {
   "cell_type": "code",
   "execution_count": 149,
   "metadata": {},
   "outputs": [],
   "source": [
    "top = 200\n",
    "levels = ['CA', 'CB', 'CC', 'c1']\n",
    "\n",
    "#the dicts will helps us group movie' index by level\n",
    "dict_levels={}\n",
    "dict_df = {}\n",
    "#list for the max and min coverage in each level\n",
    "list_max_coverage = []\n",
    "list_min_coverage = []\n",
    "for level in levels:\n",
    "    df = df_statistics.sort_values(level, ascending=False)\n",
    "    df = df[:top]\n",
    "    list_max_coverage.append(df.sort_values(level, ascending=False)[level].max())\n",
    "    list_min_coverage.append(df.sort_values(level, ascending=False)[level].min())\n",
    "    index = df.index.values\n",
    "    dict_levels['%s' % (level)] = index\n",
    "    dict_df['%s' % (level)] = df"
   ]
  },
  {
   "cell_type": "markdown",
   "metadata": {},
   "source": [
    "The max and min coverage in the highest range for each level is showed below"
   ]
  },
  {
   "cell_type": "code",
   "execution_count": 151,
   "metadata": {},
   "outputs": [
    {
     "data": {
      "text/html": [
       "<div>\n",
       "<style scoped>\n",
       "    .dataframe tbody tr th:only-of-type {\n",
       "        vertical-align: middle;\n",
       "    }\n",
       "\n",
       "    .dataframe tbody tr th {\n",
       "        vertical-align: top;\n",
       "    }\n",
       "\n",
       "    .dataframe thead th {\n",
       "        text-align: right;\n",
       "    }\n",
       "</style>\n",
       "<table border=\"1\" class=\"dataframe\">\n",
       "  <thead>\n",
       "    <tr style=\"text-align: right;\">\n",
       "      <th></th>\n",
       "      <th>Max</th>\n",
       "      <th>Min</th>\n",
       "    </tr>\n",
       "  </thead>\n",
       "  <tbody>\n",
       "    <tr>\n",
       "      <th>CA</th>\n",
       "      <td>96.3</td>\n",
       "      <td>93.0</td>\n",
       "    </tr>\n",
       "    <tr>\n",
       "      <th>CB</th>\n",
       "      <td>98.9</td>\n",
       "      <td>96.4</td>\n",
       "    </tr>\n",
       "    <tr>\n",
       "      <th>CC</th>\n",
       "      <td>99.1</td>\n",
       "      <td>97.1</td>\n",
       "    </tr>\n",
       "    <tr>\n",
       "      <th>c1</th>\n",
       "      <td>3.0</td>\n",
       "      <td>1.6</td>\n",
       "    </tr>\n",
       "  </tbody>\n",
       "</table>\n",
       "</div>"
      ],
      "text/plain": [
       "     Max   Min\n",
       "CA  96.3  93.0\n",
       "CB  98.9  96.4\n",
       "CC  99.1  97.1\n",
       "c1   3.0   1.6"
      ]
     },
     "execution_count": 151,
     "metadata": {},
     "output_type": "execute_result"
    }
   ],
   "source": [
    "pd.DataFrame({'Max':list_max_coverage, 'Min':list_min_coverage}, index=levels)"
   ]
  },
  {
   "cell_type": "markdown",
   "metadata": {},
   "source": [
    "Create dataframes with the 200 movies in the highest range for A and A+B level"
   ]
  },
  {
   "cell_type": "code",
   "execution_count": 156,
   "metadata": {
    "scrolled": true
   },
   "outputs": [],
   "source": [
    "#merge by index (axis=1) to identify which movies cover most vocabulary. Alse we get the genre and release year.\n",
    "level = 'CA'\n",
    "df_A = pd.concat([df_movies_analysis[df_movies_analysis.index.isin(dict_levels[level])], \n",
    "           dict_df[level][level]\n",
    "          ], axis=1)[['titles', 'genres', 'years', level]]\n",
    "\n",
    "level = 'CB'\n",
    "df_B = pd.concat([df_movies_analysis[df_movies_analysis.index.isin(dict_levels[level])], \n",
    "           dict_df[level][level]\n",
    "          ], axis=1)[['titles', 'genres', 'years', level]]"
   ]
  },
  {
   "cell_type": "markdown",
   "metadata": {},
   "source": [
    "### Top 50 movies for learners at B1-B2 level (order by popularity)"
   ]
  },
  {
   "cell_type": "markdown",
   "metadata": {},
   "source": [
    "The following are the top 50 movies with at least 93% A-level vocabulary coverage."
   ]
  },
  {
   "cell_type": "code",
   "execution_count": 158,
   "metadata": {
    "scrolled": true
   },
   "outputs": [
    {
     "data": {
      "text/plain": [
       "'Memento (2000), Goodfellas (1990), Joker (2019), Scarface (1983), Prisoners (2013), Drive (2011), Taken (2008), Her (2013), The Notebook (2004), The Bourne Identity (2002), La La Land (2016), 500 Days Of Summer (2009), The Pursuit Of Happyness (2006), War Of The Worlds (2005), Saw (2004), Room (2015), A Star Is Born (2018), The Ring (2002), Raging Bull (1980), The Deer Hunter (1978), The Book Of Eli (2010), Jumper (2008), Insidious (2010), Bird Box (2018), Before Sunrise (1995), Manchester By The Sea (2016), Dog Day Afternoon (1975), Dawn Of The Dead (2004), The Descendants (2011), Nocturnal Animals (2016), Before Sunset (2004), I Am Number Four (2011), A History Of Violence (2005), Paranormal Activity (2007), No Strings Attached (2011), Big (1988), It Chapter Two (2019), The Impossible (2012), Revolutionary Road (2008), The Babadook (2014), The Darjeeling Limited (2007), About A Boy (2002), Desperado (1995), The Girl On The Train (2016), The Drop (2014), The Lake House (2006), Lars And The Real Girl (2007), Dear John (2010), The Gift (2015), Never Let Me Go (2010)'"
      ]
     },
     "execution_count": 158,
     "metadata": {},
     "output_type": "execute_result"
    }
   ],
   "source": [
    "top50_A = []\n",
    "for i in df_A[:50][['titles', 'years']].values:\n",
    "    top50_A.append(i[0].title() + ' (' + i[1] + ')')\n",
    "', '.join(top50_A)"
   ]
  },
  {
   "cell_type": "markdown",
   "metadata": {},
   "source": [
    "### Top 50 movies for learners at C1 level (order by popularity)"
   ]
  },
  {
   "cell_type": "markdown",
   "metadata": {},
   "source": [
    "The following are the top 50 movies with at least 96% A+B-level vocabulary coverage."
   ]
  },
  {
   "cell_type": "code",
   "execution_count": 159,
   "metadata": {
    "scrolled": true
   },
   "outputs": [
    {
     "data": {
      "text/plain": [
       "'In Time (2011), Red (2010), 10 Cloverfield Lane (2016), The Adjustment Bureau (2011), Vicky Cristina Barcelona (2008), Saw Ii (2005), Marriage Story (2019), Warm Bodies (2013), The Vow (2012), The Next Three Days (2010), Side Effects (2013), Melancholia (2011), Rec (2007), First Man (2018), Road Trip (2000), Dangal (2016), Searching (2018), The Score (2001), Sex And The City (2008), The Giver (2014), Triple Frontier (2019), Mirrors (2008), The Commuter (2018), The 5Th Wave (2016), Primer (2004), Tootsie (1982), Collateral Beauty (2016), Monsters (2010), Elektra (2005), Unthinkable (2010), Haywire (2011), Solaris (2002), Gemini Man (2019), Abduction (2011), The Fourth Kind (2009), I Am Mother (2019), Quarantine (2008), Searching For Sugar Man (2012), Trouble With The Curve (2012), Cocoon (1985), Crimes And Misdemeanors (1989), Original Sin (2001), Nine Queens (2000), Labor Day (2013), Morgan (2016), Regression (2015), Sabrina (1995), Dressed To Kill (1980), The Shack (2017), Boy Erased (2018)'"
      ]
     },
     "execution_count": 159,
     "metadata": {},
     "output_type": "execute_result"
    }
   ],
   "source": [
    "#filtering out the movies already recommended for learner at B1 level\n",
    "df_B_final = pd.merge(df_A, df_B, on=['titles', 'years'], how='outer',\n",
    "         indicator=True).query('_merge==\"right_only\"')\n",
    "top50_B = []\n",
    "for i in df_B_final[:50][['titles', 'years']].values:\n",
    "    top50_B.append(i[0].title() + ' (' + i[1] + ')')\n",
    "', '.join(top50_B)"
   ]
  },
  {
   "cell_type": "markdown",
   "metadata": {},
   "source": [
    " Check the vocabulary of a particular movie"
   ]
  },
  {
   "cell_type": "code",
   "execution_count": null,
   "metadata": {
    "scrolled": true
   },
   "outputs": [],
   "source": [
    "index = 23\n",
    "df_dtm_column_n = df_dtm[[index]].loc[df_dtm[index]!=0]\n",
    "df_dtm_column_n = df_dtm_column_n.reset_index()\n",
    "df_dtm_column_n.rename(columns={\"index\": \"words\", index: \"count\"}, inplace=True)\n",
    "\n",
    "df_count_words_level = pd.merge(df_dtm_column_n, df_oxford_all_forms[['words', 'oxford_levels']],\n",
    "                                        how='left', on='words') #1000-level, 'coverage'\n",
    "df_count_words_level = df_count_words_level.fillna('None on the list')\n",
    "not_in_list = df_count_words_level[(df_count_words_level['oxford_levels'].isin(['None on the list']))].astype({'count':int})\n",
    "not_in_list.sort_values(['count'], ascending=False)\n",
    "#Check word levels\n",
    "df_word_levels = df_count_words_level.astype({'count':int}).sort_values('count', ascending=False)\n",
    "df_word_levels[:50]\n",
    "# not_in_list\n",
    "# not_in_list[not_in_list['words'].str.contains('s$')]\n"
   ]
  }
 ],
 "metadata": {
  "kernelspec": {
   "display_name": "Python 3",
   "language": "python",
   "name": "python3"
  },
  "language_info": {
   "codemirror_mode": {
    "name": "ipython",
    "version": 3
   },
   "file_extension": ".py",
   "mimetype": "text/x-python",
   "name": "python",
   "nbconvert_exporter": "python",
   "pygments_lexer": "ipython3",
   "version": "3.7.7"
  }
 },
 "nbformat": 4,
 "nbformat_minor": 4
}
